{
 "cells": [
  {
   "cell_type": "markdown",
   "id": "a005dc3e-585e-4428-8d2f-490aba393283",
   "metadata": {
    "tags": []
   },
   "source": [
    "# Column Lineaege to the rescue"
   ]
  },
  {
   "cell_type": "markdown",
   "id": "fe3794e7-761a-4b9a-99ca-8bb41aa3bf29",
   "metadata": {
    "jp-MarkdownHeadingCollapsed": true,
    "tags": []
   },
   "source": [
    "## About us"
   ]
  },
  {
   "cell_type": "markdown",
   "id": "4727fdbe-2cb9-4dd6-a42e-aa5ceb053033",
   "metadata": {
    "tags": []
   },
   "source": [
    "Maciej & Paweł - Software Engineers @ GetInData - Openlineage & Marquez contributors - cat owners (*)\n",
    "\n",
    "![Pan Maciej](https://bigdatatechwarsaw.eu/wp-content/uploads/2022/12/Maciej-Obuchowski-300x300-2.png)\n",
    "![Pan Paweł](https://bigdatatechwarsaw.eu/wp-content/uploads/2022/12/Pawel-Leszczynski-300x300-1.png)\n",
    "\n",
    "(*) Please mind it is questionable whether we are the cat owners or we are owned by our cats."
   ]
  },
  {
   "cell_type": "markdown",
   "id": "a7cecba3-8206-473c-94bd-1a9b3ad95e61",
   "metadata": {
    "jp-MarkdownHeadingCollapsed": true,
    "tags": []
   },
   "source": [
    "## What is Openlineage so cool?"
   ]
  },
  {
   "cell_type": "markdown",
   "id": "e40135af-4e54-40ef-afe7-0fca1f4837db",
   "metadata": {
    "tags": []
   },
   "source": [
    "![OpenLineage](https://github.com/OpenLineage/OpenLineage/raw/main/doc/with-ol.svg)"
   ]
  },
  {
   "cell_type": "markdown",
   "id": "0685f534-f74c-44c6-9a23-243d273e30e4",
   "metadata": {
    "jp-MarkdownHeadingCollapsed": true,
    "tags": []
   },
   "source": [
    "## What is Openlineage a five-star, tip-top, fantaboulous standard?"
   ]
  },
  {
   "cell_type": "markdown",
   "id": "66d8a97c-1763-43f0-ba53-d80300fe6870",
   "metadata": {
    "tags": []
   },
   "source": [
    "![Infer vs observe](images/infer_observe.png)"
   ]
  },
  {
   "cell_type": "markdown",
   "id": "9afde8fc-54d9-4c10-8ad5-a5d7cb801a5c",
   "metadata": {},
   "source": [
    "```sql\n",
    "CREATE TABLE output_table AS \n",
    "SELECT * FROM input_table\n",
    "...\n",
    "```"
   ]
  }
 ],
 "metadata": {
  "kernelspec": {
   "display_name": "Python 3 (ipykernel)",
   "language": "python",
   "name": "python3"
  },
  "language_info": {
   "codemirror_mode": {
    "name": "ipython",
    "version": 3
   },
   "file_extension": ".py",
   "mimetype": "text/x-python",
   "name": "python",
   "nbconvert_exporter": "python",
   "pygments_lexer": "ipython3",
   "version": "3.10.9"
  }
 },
 "nbformat": 4,
 "nbformat_minor": 5
}
