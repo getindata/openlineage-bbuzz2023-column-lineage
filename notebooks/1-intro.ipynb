{
 "cells": [
  {
   "cell_type": "markdown",
   "id": "a005dc3e-585e-4428-8d2f-490aba393283",
   "metadata": {
    "tags": []
   },
   "source": [
    "# Column Lineaege to the rescue"
   ]
  },
  {
   "cell_type": "markdown",
   "id": "fe3794e7-761a-4b9a-99ca-8bb41aa3bf29",
   "metadata": {
    "tags": []
   },
   "source": [
    "## About us"
   ]
  },
  {
   "cell_type": "markdown",
   "id": "4727fdbe-2cb9-4dd6-a42e-aa5ceb053033",
   "metadata": {
    "tags": []
   },
   "source": [
    "**Maciej** & **Paweł** - Software Engineers @ GetInData - Openlineage & Marquez committers - cat owners(*)\n",
    "\n",
    "![Pan Maciej](https://bigdatatechwarsaw.eu/wp-content/uploads/2022/12/Maciej-Obuchowski-300x300-2.png)\n",
    "<img src=\"./images/qr.png\"  width=\"300\" height=\"300\">\n",
    "<img src=\"https://bigdatatechwarsaw.eu/wp-content/uploads/2022/12/Pawel-Leszczynski-300x300-1.png\"  width=\"300\" height=\"300\">\n",
    "\n",
    "(*) It is questionable whether someone is a cat owner or owned by a cat."
   ]
  },
  {
   "cell_type": "markdown",
   "id": "ffb9dc64-0cbf-40f1-9fff-b387cdc3fc7c",
   "metadata": {
    "jp-MarkdownHeadingCollapsed": true,
    "tags": []
   },
   "source": [
    "## Quiz"
   ]
  },
  {
   "cell_type": "code",
   "execution_count": 31,
   "id": "aba50a20-22c8-48a9-8c14-f21f5a6a4786",
   "metadata": {
    "tags": []
   },
   "outputs": [],
   "source": [
    "def without_lineage(str):\n",
    "    return str[:-1] + 'S'\n",
    "\n",
    "# What is \n",
    "# without_lineage('DATA MESH')"
   ]
  },
  {
   "cell_type": "markdown",
   "id": "a7cecba3-8206-473c-94bd-1a9b3ad95e61",
   "metadata": {
    "jp-MarkdownHeadingCollapsed": true,
    "tags": []
   },
   "source": [
    "## What is Openlineage so cool?"
   ]
  },
  {
   "cell_type": "markdown",
   "id": "e40135af-4e54-40ef-afe7-0fca1f4837db",
   "metadata": {
    "tags": []
   },
   "source": [
    "![OpenLineage](https://github.com/OpenLineage/OpenLineage/raw/main/doc/with-ol.svg)"
   ]
  },
  {
   "cell_type": "markdown",
   "id": "0685f534-f74c-44c6-9a23-243d273e30e4",
   "metadata": {
    "jp-MarkdownHeadingCollapsed": true,
    "tags": []
   },
   "source": [
    "## What is Openlineage a five-star, tip-top, fantaboulous standard?"
   ]
  },
  {
   "cell_type": "markdown",
   "id": "66d8a97c-1763-43f0-ba53-d80300fe6870",
   "metadata": {
    "tags": []
   },
   "source": [
    "![Infer vs observe](images/infer_observe.png)"
   ]
  },
  {
   "cell_type": "markdown",
   "id": "9afde8fc-54d9-4c10-8ad5-a5d7cb801a5c",
   "metadata": {},
   "source": [
    "```sql\n",
    "CREATE TABLE output_table AS \n",
    "SELECT * FROM input_table\n",
    "...\n",
    "```"
   ]
  }
 ],
 "metadata": {
  "kernelspec": {
   "display_name": "Python 3",
   "language": "python",
   "name": "python3"
  },
  "language_info": {
   "codemirror_mode": {
    "name": "ipython",
    "version": 3
   },
   "file_extension": ".py",
   "mimetype": "text/x-python",
   "name": "python",
   "nbconvert_exporter": "python",
   "pygments_lexer": "ipython3",
   "version": "3.9.11"
  },
  "vscode": {
   "interpreter": {
    "hash": "435d9a77665643fab8a9e3e554e1daa86c82d4e7628c8234310a0f7f8a5d0e16"
   }
  }
 },
 "nbformat": 4,
 "nbformat_minor": 5
}
