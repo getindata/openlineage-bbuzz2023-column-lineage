{
 "cells": [
  {
   "cell_type": "code",
   "execution_count": 19,
   "id": "b812b5e5-d7fb-4cc7-8e5b-f10932ae28f7",
   "metadata": {
    "tags": []
   },
   "outputs": [
    {
     "name": "stderr",
     "output_type": "stream",
     "text": [
      "  % Total    % Received % Xferd  Average Speed   Time    Time     Time  Current\n",
      "                                 Dload  Upload   Total   Spent    Left  Speed\n",
      "100    43  100    43    0     0    309      0 --:--:-- --:--:-- --:--:--   311\n"
     ]
    },
    {
     "name": "stdout",
     "output_type": "stream",
     "text": [
      "{\n",
      "  \"dag_runs\": [],\n",
      "  \"total_entries\": 0\n",
      "}\n"
     ]
    }
   ],
   "source": [
    "%%bash\n",
    "ENDPOINT_URL=\"http://airflow-webserver:8080/\"\n",
    "curl -X GET  \\\n",
    "    --user \"airflow:airflow\" \\\n",
    "    \"${ENDPOINT_URL}/api/v1/dags/postgres/dagRuns\""
   ]
  },
  {
   "cell_type": "code",
   "execution_count": 20,
   "id": "1c42398f-d723-43ec-946f-a9329d3e6149",
   "metadata": {
    "tags": []
   },
   "outputs": [
    {
     "name": "stderr",
     "output_type": "stream",
     "text": [
      "  % Total    % Received % Xferd  Average Speed   Time    Time     Time  Current\n",
      "                                 Dload  Upload   Total   Spent    Left  Speed\n",
      "100   500  100   498  100     2   4408     17 --:--:-- --:--:-- --:--:--  4464\n"
     ]
    },
    {
     "name": "stdout",
     "output_type": "stream",
     "text": [
      "{\n",
      "  \"conf\": {},\n",
      "  \"dag_id\": \"postgres\",\n",
      "  \"dag_run_id\": \"manual__2023-02-27T00:34:37.407863+00:00\",\n",
      "  \"data_interval_end\": \"2023-02-27T00:34:37.407863+00:00\",\n",
      "  \"data_interval_start\": \"2023-02-27T00:34:37.407863+00:00\",\n",
      "  \"end_date\": null,\n",
      "  \"execution_date\": \"2023-02-27T00:34:37.407863+00:00\",\n",
      "  \"external_trigger\": true,\n",
      "  \"last_scheduling_decision\": null,\n",
      "  \"logical_date\": \"2023-02-27T00:34:37.407863+00:00\",\n",
      "  \"note\": null,\n",
      "  \"run_type\": \"manual\",\n",
      "  \"start_date\": null,\n",
      "  \"state\": \"queued\"\n",
      "}\n"
     ]
    }
   ],
   "source": [
    "%%bash\n",
    "ENDPOINT_URL=\"http://airflow-webserver:8080/\"\n",
    "curl -X POST  \\\n",
    "    -H 'Content-Type: application/json' \\\n",
    "    --user \"airflow:airflow\" \\\n",
    "    \"${ENDPOINT_URL}/api/v1/dags/postgres/dagRuns\" \\\n",
    "    -d '{}'"
   ]
  },
  {
   "cell_type": "code",
   "execution_count": null,
   "id": "31784143-1ec5-43cf-a385-5e2cda7da8ca",
   "metadata": {},
   "outputs": [],
   "source": [
    "Airflow is at http://localhost:8080/"
   ]
  }
 ],
 "metadata": {
  "kernelspec": {
   "display_name": "Python 3 (ipykernel)",
   "language": "python",
   "name": "python3"
  },
  "language_info": {
   "codemirror_mode": {
    "name": "ipython",
    "version": 3
   },
   "file_extension": ".py",
   "mimetype": "text/x-python",
   "name": "python",
   "nbconvert_exporter": "python",
   "pygments_lexer": "ipython3",
   "version": "3.10.9"
  },
  "vscode": {
   "interpreter": {
    "hash": "435d9a77665643fab8a9e3e554e1daa86c82d4e7628c8234310a0f7f8a5d0e16"
   }
  }
 },
 "nbformat": 4,
 "nbformat_minor": 5
}
