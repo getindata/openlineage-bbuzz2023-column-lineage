{
 "cells": [
  {
   "cell_type": "code",
   "execution_count": 1,
   "id": "81be6034-5a23-4f2f-82f3-ae65b858b813",
   "metadata": {},
   "outputs": [],
   "source": [
    "from openlineage.client.facet import *\n",
    "from openlineage.client.run import *"
   ]
  }
 ],
 "metadata": {
  "kernelspec": {
   "display_name": "Python 3 (ipykernel)",
   "language": "python",
   "name": "python3"
  },
  "language_info": {
   "codemirror_mode": {
    "name": "ipython",
    "version": 3
   },
   "file_extension": ".py",
   "mimetype": "text/x-python",
   "name": "python",
   "nbconvert_exporter": "python",
   "pygments_lexer": "ipython3",
   "version": "3.10.9"
  }
 },
 "nbformat": 4,
 "nbformat_minor": 5
}
