{
 "cells": [
  {
   "cell_type": "code",
   "execution_count": 7,
   "id": "ae21b5e8-b546-423f-b873-70f126cc2728",
   "metadata": {
    "tags": []
   },
   "outputs": [
    {
     "name": "stdout",
     "output_type": "stream",
     "text": [
      "Marquez is OK.\n"
     ]
    }
   ],
   "source": [
    "import json,requests\n",
    "marquez_url = \"http://api:5000\" ## this may depend on your local setup\n",
    "if (requests.get(\"{}/api/v1/namespaces\".format(marquez_url)).status_code == 200):\n",
    "    print(\"Marquez is OK.\")\n",
    "else:\n",
    "    print(\"Cannot connect to Marquez\")"
   ]
  },
  {
   "cell_type": "markdown",
   "id": "3d4af083-6147-417e-ad2d-9b588b24cbae",
   "metadata": {},
   "source": [
    "Marquez URL is http://localhost:3000"
   ]
  },
  {
   "cell_type": "code",
   "execution_count": 8,
   "id": "204b1483-ad49-4f4a-bbe6-4a46856a2da1",
   "metadata": {
    "tags": []
   },
   "outputs": [],
   "source": [
    "from pyspark.sql import SparkSession\n",
    "\n",
    "spark = (SparkSession.builder.master('local')\n",
    "         .appName('Jelly Data Mesh')\n",
    "         .config('spark.extraListeners', 'io.openlineage.spark.agent.OpenLineageSparkListener')\n",
    "         .config('spark.jars.packages', 'io.openlineage:openlineage-spark:0.20.6')\n",
    "         .config('spark.openlineage.transport.type', 'http')\n",
    "         .config('spark.openlineage.transport.url', 'http://api:5000')    \n",
    "         .config('spark.openlineage.namespace', 'jelly-world')\n",
    "         .getOrCreate())\n",
    "\n",
    "spark.sparkContext.setLogLevel('DEBUG')"
   ]
  },
  {
   "cell_type": "markdown",
   "id": "665f7fcc-14e7-4a12-8807-33b1c2426426",
   "metadata": {
    "tags": []
   },
   "source": [
    "## Initialise some datasets"
   ]
  },
  {
   "cell_type": "code",
   "execution_count": 23,
   "id": "4c11cb58-ad50-46d7-99c1-197d8b9c1990",
   "metadata": {
    "tags": []
   },
   "outputs": [
    {
     "data": {
      "text/plain": [
       "DataFrame[]"
      ]
     },
     "execution_count": 23,
     "metadata": {},
     "output_type": "execute_result"
    }
   ],
   "source": [
    "spark.sql('DROP TABLE IF EXISTS jelly_colors')\n",
    "spark.sql('DROP TABLE IF EXISTS jelly_transactions')\n",
    "spark.sql('DROP TABLE IF EXISTS jelly_users')"
   ]
  },
  {
   "cell_type": "code",
   "execution_count": 28,
   "id": "93509724-c208-4b00-9ab0-0ca44ce6e1f0",
   "metadata": {
    "tags": []
   },
   "outputs": [],
   "source": [
    "!rm -rf /home/jovyan/notebooks/spark-warehouse/jelly_*"
   ]
  },
  {
   "cell_type": "code",
   "execution_count": 29,
   "id": "526c8616-3c1d-447e-92c7-dab89dfcf21d",
   "metadata": {
    "tags": []
   },
   "outputs": [],
   "source": [
    "import uuid\n",
    "greenUuid = str(uuid.uuid4())\n",
    "pawelUuid = str(uuid.uuid4())\n",
    "maciejUuid = str(uuid.uuid4());\n",
    "\n",
    "spark.createDataFrame([\n",
    "    {'color_uuid': greenUuid, 'name': 'green'},\n",
    "    {'color_uuid': str(uuid.uuid4()), 'name': 'yellow'},\n",
    "]).write.mode(\"overwrite\").saveAsTable('jelly_colors')\n",
    "\n",
    "spark.createDataFrame([\n",
    "    {'user_uuid': pawelUuid, 'name': 'pawel@jellyworld.pl'},\n",
    "    {'user_uuid': maciejUuid, 'name': 'maciej@jellyworld.pl'},\n",
    "]).write.mode(\"overwrite\").saveAsTable('jelly_users')\n",
    "\n",
    "spark.createDataFrame([\n",
    "    {'user_uuid': pawelUuid, 'color_uuid': greenUuid }\n",
    "]).write.mode(\"overwrite\").saveAsTable('jelly_favorite_colors')\n",
    "\n",
    "spark.createDataFrame([\n",
    "    {\n",
    "        'from_user_uuid': pawelUuid, \n",
    "        'to_user_uuid': maciejUuid, \n",
    "        'exchanched_color_uuid': greenUuid, \n",
    "        'amount_exchanged': 5, \n",
    "        'lat': 52.2278015 , \n",
    "        'lng': 21.0022384, \n",
    "        'exchange_date': '2023-02-29 12:00:00.000' \n",
    "    }\n",
    "]).write.mode(\"overwrite\").saveAsTable('jelly_transactions')"
   ]
  },
  {
   "cell_type": "markdown",
   "id": "3af22972-5b78-4c6c-acc4-08dbe8bbe3d4",
   "metadata": {
    "tags": []
   },
   "source": [
    "## Active daily users report table"
   ]
  },
  {
   "cell_type": "code",
   "execution_count": 36,
   "id": "56fc8e84-6b1f-4eec-833f-ab34a55b6c6f",
   "metadata": {
    "tags": []
   },
   "outputs": [],
   "source": [
    "spark.sql('''\n",
    "  SELECT u.user_uuid, u.name, SUM(amount_exchanged)\n",
    "  FROM jelly_users u\n",
    "  JOIN jelly_transactions t ON (u.user_uuid=t.from_user_uuid OR u.user_uuid=t.to_user_uuid) \n",
    "  GROUP BY u.user_uuid, u.name\n",
    "''').write.mode(\"overwrite\").saveAsTable('jelly_daily_active_users')"
   ]
  },
  {
   "cell_type": "markdown",
   "id": "b44656c7-ce78-43c2-a4ca-b802f374d70a",
   "metadata": {},
   "source": [
    "## Active daily users that like green jellys"
   ]
  },
  {
   "cell_type": "code",
   "execution_count": 39,
   "id": "2b134b0a-fc13-4151-b896-c7d3315dd451",
   "metadata": {
    "tags": []
   },
   "outputs": [],
   "source": [
    "spark.sql('''\n",
    "  SELECT u.name, jelly_colors.name as color\n",
    "  FROM jelly_daily_active_users u\n",
    "  JOIN jelly_favorite_colors ON jelly_favorite_colors.user_uuid = u.user_uuid\n",
    "  JOIN jelly_colors ON jelly_colors.color_uuid= jelly_favorite_colors.color_uuid\n",
    "  WHERE jelly_colors.name = 'green'\n",
    "''').write.mode(\"overwrite\").saveAsTable('jelly_daily_green')"
   ]
  },
  {
   "cell_type": "markdown",
   "id": "fe6b6942-e703-418b-b7cd-7abf81c93c7c",
   "metadata": {
    "tags": []
   },
   "source": [
    "Marquez:\n",
    " * Job in [Marquez UI](http://localhost:3000/lineage/job/jelly-world/jelly_data_mesh.execute_create_data_source_table_as_select_command).\n",
    " * [Lineage in Marquez API](http://localhost:3000/api/v1/column-lineage?nodeId=dataset:file:%2Fhome%2Fjovyan%2Fnotebooks%2Fspark-warehouse%2Fjelly_daily_green)"
   ]
  }
 ],
 "metadata": {
  "kernelspec": {
   "display_name": "Python 3",
   "language": "python",
   "name": "python3"
  },
  "language_info": {
   "codemirror_mode": {
    "name": "ipython",
    "version": 3
   },
   "file_extension": ".py",
   "mimetype": "text/x-python",
   "name": "python",
   "nbconvert_exporter": "python",
   "pygments_lexer": "ipython3",
   "version": "3.9.11"
  },
  "vscode": {
   "interpreter": {
    "hash": "435d9a77665643fab8a9e3e554e1daa86c82d4e7628c8234310a0f7f8a5d0e16"
   }
  }
 },
 "nbformat": 4,
 "nbformat_minor": 5
}
