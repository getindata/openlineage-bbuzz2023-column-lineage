{
 "cells": [
  {
   "cell_type": "markdown",
   "id": "23da150a",
   "metadata": {},
   "source": [
    "## Marquez - a reference backend service"
   ]
  },
  {
   "cell_type": "code",
   "execution_count": null,
   "id": "ae21b5e8-b546-423f-b873-70f126cc2728",
   "metadata": {
    "slideshow": {
     "slide_type": "slide"
    },
    "tags": []
   },
   "outputs": [],
   "source": [
    "import json,requests\n",
    "marquez_url = \"http://api:5000\" ## this may depend on your local setup\n",
    "if (requests.get(\"{}/api/v1/namespaces\".format(marquez_url)).status_code == 200):\n",
    "    print(\"Marquez is OK.\")\n",
    "else:\n",
    "    print(\"Cannot connect to Marquez\")"
   ]
  },
  {
   "cell_type": "markdown",
   "id": "3d4af083-6147-417e-ad2d-9b588b24cbae",
   "metadata": {
    "slideshow": {
     "slide_type": "slide"
    }
   },
   "source": [
    "Marquez URL is http://localhost:3000"
   ]
  },
  {
   "cell_type": "code",
   "execution_count": null,
   "id": "204b1483-ad49-4f4a-bbe6-4a46856a2da1",
   "metadata": {
    "slideshow": {
     "slide_type": "slide"
    },
    "tags": []
   },
   "outputs": [],
   "source": [
    "from pyspark.sql import SparkSession\n",
    "\n",
    "spark = (SparkSession.builder.master('local')\n",
    "         .appName('Food Delivery')\n",
    "         .config('spark.extraListeners', 'io.openlineage.spark.agent.OpenLineageSparkListener')\n",
    "         .config('spark.jars.packages', 'io.openlineage:openlineage-spark:0.27.2,org.postgresql:postgresql:42.6.0')\n",
    "         .config('spark.openlineage.transport.type', 'http')\n",
    "         .config('spark.openlineage.transport.url', 'http://api:5000')\n",
    "         .config('spark.openlineage.facets.disabled', '[spark_unknown;spark.logicalPlan]')\n",
    "         .config('spark.openlineage.namespace', 'f')\n",
    "         .enableHiveSupport()\n",
    "         .getOrCreate())"
   ]
  },
  {
   "cell_type": "markdown",
   "id": "3af22972-5b78-4c6c-acc4-08dbe8bbe3d4",
   "metadata": {
    "tags": []
   },
   "source": [
    "## Most popular restaurants in Berlin last week"
   ]
  },
  {
   "cell_type": "code",
   "execution_count": null,
   "id": "56fc8e84-6b1f-4eec-833f-ab34a55b6c6f",
   "metadata": {
    "tags": []
   },
   "outputs": [],
   "source": [
    "df = spark.sql('''\n",
    "  SELECT r.id, r.name, r.address, count(order_id) as orders\n",
    "  FROM public.restaurants r\n",
    "  JOIN public.orders_7_days o ON (o.restaurant_id = r.id) \n",
    "  GROUP BY r.id, r.name, r.address\n",
    "''')"
   ]
  },
  {
   "cell_type": "markdown",
   "id": "de550ab0",
   "metadata": {},
   "source": [
    "### Write dataset to a table"
   ]
  },
  {
   "cell_type": "code",
   "execution_count": null,
   "id": "800a521d",
   "metadata": {},
   "outputs": [],
   "source": [
    "df.write.mode(\"overwrite\").saveAsTable('public.top_berlin_restarurants')"
   ]
  },
  {
   "cell_type": "markdown",
   "id": "4fc196b1",
   "metadata": {},
   "source": [
    "### Write the same dataset to postgres table "
   ]
  },
  {
   "cell_type": "code",
   "execution_count": null,
   "id": "75625945",
   "metadata": {},
   "outputs": [],
   "source": [
    "df \\\n",
    "    .write \\\n",
    "    .mode(\"overwrite\") \\\n",
    "    .jdbc(\"jdbc:postgresql://db/data\", \"top_berlin_restarurants\", \n",
    "          properties={\n",
    "              \"user\": \"data\", \n",
    "              \"password\": \"data\", \n",
    "              \"schema\": \"data\", \n",
    "              \"driver\": \"org.postgresql.Driver\"\n",
    "          }\n",
    "         )"
   ]
  },
  {
   "cell_type": "markdown",
   "id": "fe6b6942-e703-418b-b7cd-7abf81c93c7c",
   "metadata": {
    "tags": []
   },
   "source": [
    "Marquez:\n",
    " * Job in [Marquez UI](http://localhost:3000/lineage/job/jelly-world/jelly_data_mesh.execute_create_data_source_table_as_select_command).\n",
    " * [Lineage in Marquez API](http://localhost:3000/api/v1/column-lineage?nodeId=dataset:file:%2Fhome%2Fjovyan%2Fnotebooks%2Fspark-warehouse%2Fjelly_daily_green)"
   ]
  }
 ],
 "metadata": {
  "celltoolbar": "Raw Cell Format",
  "kernelspec": {
   "display_name": "Python 3 (ipykernel)",
   "language": "python",
   "name": "python3"
  },
  "language_info": {
   "codemirror_mode": {
    "name": "ipython",
    "version": 3
   },
   "file_extension": ".py",
   "mimetype": "text/x-python",
   "name": "python",
   "nbconvert_exporter": "python",
   "pygments_lexer": "ipython3",
   "version": "3.10.9"
  },
  "vscode": {
   "interpreter": {
    "hash": "435d9a77665643fab8a9e3e554e1daa86c82d4e7628c8234310a0f7f8a5d0e16"
   }
  }
 },
 "nbformat": 4,
 "nbformat_minor": 5
}
