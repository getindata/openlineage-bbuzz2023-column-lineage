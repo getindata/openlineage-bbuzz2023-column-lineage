{
 "cells": [
  {
   "cell_type": "code",
   "execution_count": 1,
   "id": "ae21b5e8-b546-423f-b873-70f126cc2728",
   "metadata": {
    "tags": []
   },
   "outputs": [
    {
     "name": "stdout",
     "output_type": "stream",
     "text": [
      "Marquez is OK.\n"
     ]
    }
   ],
   "source": [
    "import json,requests\n",
    "marquez_url = \"http://api:5000\" ## this may depend on your local setup\n",
    "if (requests.get(\"{}/api/v1/namespaces\".format(marquez_url)).status_code == 200):\n",
    "    print(\"Marquez is OK.\")\n",
    "else:\n",
    "    print(\"Cannot connect to Marquez\")"
   ]
  },
  {
   "cell_type": "markdown",
   "id": "3d4af083-6147-417e-ad2d-9b588b24cbae",
   "metadata": {},
   "source": [
    "Marquez URL is http://localhost:3000"
   ]
  },
  {
   "cell_type": "code",
   "execution_count": 2,
   "id": "204b1483-ad49-4f4a-bbe6-4a46856a2da1",
   "metadata": {
    "tags": []
   },
   "outputs": [],
   "source": [
    "from pyspark.sql import SparkSession\n",
    "\n",
    "spark = (SparkSession.builder.master('local')\n",
    "         .appName('Jelly Data Mesh')\n",
    "         .config('spark.extraListeners', 'io.openlineage.spark.agent.OpenLineageSparkListener')\n",
    "         .config('spark.jars.packages', 'io.openlineage:openlineage-spark:0.20.6')\n",
    "         .config('spark.openlineage.transport.type', 'http')\n",
    "         .config('spark.openlineage.transport.url', 'http://api:5000')    \n",
    "         .config('spark.openlineage.namespace', 'jelly-world')\n",
    "         .getOrCreate())\n",
    "\n",
    "spark.sparkContext.setLogLevel('DEBUG')"
   ]
  },
  {
   "cell_type": "markdown",
   "id": "665f7fcc-14e7-4a12-8807-33b1c2426426",
   "metadata": {
    "tags": []
   },
   "source": [
    "## Initialise some datasets"
   ]
  },
  {
   "cell_type": "code",
   "execution_count": 3,
   "id": "4c11cb58-ad50-46d7-99c1-197d8b9c1990",
   "metadata": {
    "tags": []
   },
   "outputs": [
    {
     "data": {
      "text/plain": [
       "DataFrame[]"
      ]
     },
     "execution_count": 3,
     "metadata": {},
     "output_type": "execute_result"
    }
   ],
   "source": [
    "spark.sql('DROP TABLE IF EXISTS jelly_colors')\n",
    "spark.sql('DROP TABLE IF EXISTS jelly_transactions')\n",
    "spark.sql('DROP TABLE IF EXISTS jelly_users')"
   ]
  },
  {
   "cell_type": "code",
   "execution_count": 4,
   "id": "93509724-c208-4b00-9ab0-0ca44ce6e1f0",
   "metadata": {
    "tags": []
   },
   "outputs": [],
   "source": [
    "!rm -rf /home/jovyan/notebooks/spark-warehouse/jelly_*"
   ]
  },
  {
   "cell_type": "code",
   "execution_count": 5,
   "id": "526c8616-3c1d-447e-92c7-dab89dfcf21d",
   "metadata": {
    "tags": []
   },
   "outputs": [],
   "source": [
    "import uuid\n",
    "greenUuid = str(uuid.uuid4())\n",
    "spark.createDataFrame([\n",
    "    {'color_uuid': greenUuid, 'name': 'green'},\n",
    "    {'color_uuid': str(uuid.uuid4()), 'name': 'yellow'},\n",
    "]).write.mode(\"overwrite\").saveAsTable('jelly_colors')\n",
    "\n",
    "pawelUuid = str(uuid.uuid4())\n",
    "maciejUuid = str(uuid.uuid4());\n",
    "\n",
    "spark.createDataFrame([\n",
    "    {'uuid': pawelUuid, 'name': 'pawel@jellyworld.pl'},\n",
    "    {'uuid': maciejUuid, 'name': 'maciej@jellyworld.pl'},\n",
    "]).write.mode(\"overwrite\").saveAsTable('jelly_users')\n",
    "\n",
    "spark.createDataFrame([\n",
    "    {\n",
    "        'from_user_uuid': pawelUuid, \n",
    "        'to_user_uuid': maciejUuid, \n",
    "        'exchanched_color_uuid': greenUuid, \n",
    "        'amount_exchanged': 5, 'lat': '52.2278015' , \n",
    "        'lng':'21.0022384', \n",
    "        'exchange_date': '2023-02-29 12:00:00.000' \n",
    "    }\n",
    "]).write.mode(\"overwrite\").saveAsTable('jelly_transactions')"
   ]
  },
  {
   "cell_type": "markdown",
   "id": "3af22972-5b78-4c6c-acc4-08dbe8bbe3d4",
   "metadata": {
    "tags": []
   },
   "source": [
    "## Active daily users report table"
   ]
  },
  {
   "cell_type": "code",
   "execution_count": 6,
   "id": "56fc8e84-6b1f-4eec-833f-ab34a55b6c6f",
   "metadata": {
    "tags": []
   },
   "outputs": [],
   "source": [
    "spark.sql('''\n",
    "  SELECT u.name, SUM(amount_exchanged)\n",
    "  FROM jelly_users u\n",
    "  JOIN jelly_transactions t ON (u.uuid=t.from_user_uuid OR u.uuid=t.to_user_uuid) \n",
    "  GROUP BY u.name\n",
    "''').write.mode(\"overwrite\").saveAsTable('jelly_daily_active_users')"
   ]
  },
  {
   "cell_type": "markdown",
   "id": "c7c504f9-ec7e-4cc2-8d50-37f3cb97bdd0",
   "metadata": {},
   "source": [
    "http://localhost:3000/lineage/dataset/file/%2Fhome%2Fjovyan%2Fnotebooks%2Fspark-warehouse%2Fjelly_daily_active_users"
   ]
  }
 ],
 "metadata": {
  "kernelspec": {
   "display_name": "Python 3 (ipykernel)",
   "language": "python",
   "name": "python3"
  },
  "language_info": {
   "codemirror_mode": {
    "name": "ipython",
    "version": 3
   },
   "file_extension": ".py",
   "mimetype": "text/x-python",
   "name": "python",
   "nbconvert_exporter": "python",
   "pygments_lexer": "ipython3",
   "version": "3.10.9"
  }
 },
 "nbformat": 4,
 "nbformat_minor": 5
}
