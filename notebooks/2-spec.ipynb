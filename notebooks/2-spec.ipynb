{
 "cells": [
  {
   "cell_type": "markdown",
   "id": "ac4ab275-8bc5-4e76-8cba-cf7e6d26e86d",
   "metadata": {
    "tags": []
   },
   "source": [
    "## Datasets"
   ]
  },
  {
   "cell_type": "markdown",
   "id": "e1657dea-82c8-43f7-9017-5187449287bb",
   "metadata": {
    "tags": []
   },
   "source": [
    "```\n",
    " - jelly_colors\n",
    "     - color_uuid: uuid\n",
    "     - name: string\n",
    "     - rgb: string\n",
    " - jelly_balances\n",
    "     - user_uuid: uuid\n",
    "     - jelly_color_uuid: uuid\n",
    "     - amount_of_jellys: integer\n",
    " - jelly_transactions: \n",
    "     - from_user_uuid: uuid\n",
    "     - to_user_uuid: uuid\n",
    "     - exchanched_color_uuid:uuid\n",
    "     - amount_exchanged: integer\n",
    "     - exchange_date: timestamp\n",
    "     - exchange_location: point\n",
    " - users\n",
    "     - uuid: uuid\n",
    "     - email\n",
    " - users_exchange_locations: # geolocation points where user can exchange jellys\n",
    "     - uuid: uuid\n",
    "     - location: point\n",
    "```"
   ]
  },
  {
   "cell_type": "markdown",
   "id": "33d17db9-aa68-495a-8a13-b46b774dae65",
   "metadata": {
    "tags": []
   },
   "source": [
    "## Active daily users "
   ]
  },
  {
   "cell_type": "markdown",
   "id": "ffa3907c-1011-4e94-aa7b-f68f7d11e3e3",
   "metadata": {},
   "source": [
    "``` sql\n",
    "CREATE TABLE active_daily_users AS\n",
    "SELECT users.email, sum(jelly_transactions.amount_exchanged) AS daily_amount\n",
    "FROM users u\n",
    "JOIN jelly_transactions ...\n",
    "WHERE to_date(u.exchange_date) = '2023-02-29`\n",
    "```"
   ]
  },
  {
   "cell_type": "markdown",
   "id": "fa24e570-7a49-4d5b-8f92-8ed2a271d7b6",
   "metadata": {
    "tags": []
   },
   "source": [
    "``` json\n",
    "  \"outputs\": [\n",
    "    {\n",
    "      \"namespace\": \"jelly-world\",\n",
    "      \"name\": \"active_daily_users \",\n",
    "      \"facets\": {\n",
    "        \"schema\": {\n",
    "          \"fields\": [\n",
    "            { \"name\": \"email\", \"type\": \"STRING\"},\n",
    "            { \"name\": \"amount\", \"type\": \"INT\"}\n",
    "          ]\n",
    "        },\n",
    "        \"columnLineage\": {\n",
    "          \"fields\": {\n",
    "            \"email\": {\n",
    "              \"inputFields\": [\n",
    "                {namespace: \"jelly-world\", name: \"users\", \"field\": \"email\"}\n",
    "              ],\n",
    "              transformationDescription: \"identical\",\n",
    "              transformationType: \"IDENTITY\"\n",
    "            },\n",
    "            \"daily_amount\": {\n",
    "              \"inputFields\": [\n",
    "                {namespace: \"jelly-world\", name: \"jelly_transactions\", \"field\": \"amount_exchanged\"}\n",
    "              ],\n",
    "              transformationDescription: \"identical\",\n",
    "              transformationType: \"IDENTITY\"\n",
    "            },\n",
    "          }\n",
    "        }\n",
    "      }\n",
    "    }\n",
    "  ],\n",
    "```"
   ]
  }
 ],
 "metadata": {
  "kernelspec": {
   "display_name": "Python 3 (ipykernel)",
   "language": "python",
   "name": "python3"
  },
  "language_info": {
   "codemirror_mode": {
    "name": "ipython",
    "version": 3
   },
   "file_extension": ".py",
   "mimetype": "text/x-python",
   "name": "python",
   "nbconvert_exporter": "python",
   "pygments_lexer": "ipython3",
   "version": "3.10.9"
  }
 },
 "nbformat": 4,
 "nbformat_minor": 5
}
