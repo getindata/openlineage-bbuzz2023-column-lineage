{
 "cells": [
  {
   "cell_type": "markdown",
   "id": "12ceb2f7",
   "metadata": {},
   "source": [
    "## Openlineage as a standard based on JsonSchema"
   ]
  },
  {
   "cell_type": "markdown",
   "id": "4ae05661",
   "metadata": {
    "heading_collapsed": true
   },
   "source": [
    "### RunEvent and its major components"
   ]
  },
  {
   "cell_type": "markdown",
   "id": "e1657dea-82c8-43f7-9017-5187449287bb",
   "metadata": {
    "hidden": true,
    "tags": []
   },
   "source": [
    "```\n",
    "RunEvent { \n",
    "    \"job\": { ... },\n",
    "    \"run\": { ... },\n",
    "    \"inputs\": { ... },\n",
    "    \"outputs\": { ... } \n",
    "}\n",
    "```"
   ]
  },
  {
   "cell_type": "markdown",
   "id": "ae90ba66",
   "metadata": {},
   "source": [
    "### Standard facets"
   ]
  },
  {
   "cell_type": "markdown",
   "id": "f141e917",
   "metadata": {},
   "source": [
    "-  Dataset facets\n",
    "    - Schema\n",
    "    - Ownership\n",
    "    - Documentation\n",
    "    - data quality assertions and metrics\n",
    " - Job Facets \n",
    "    - SQLJobFacet to store SQL for queries\n",
    "    - Source code location\n",
    " - Run Facets\n",
    "    - ProcessingEngineRunFacet to contain processing engine information, its version, etc. \n",
    "    - ErrorMessageRunFacet for error messages and stacktraces"
   ]
  },
  {
   "cell_type": "markdown",
   "id": "d63ffd22",
   "metadata": {
    "heading_collapsed": true
   },
   "source": [
    "### Easily extended with custom facets "
   ]
  },
  {
   "cell_type": "markdown",
   "id": "33d17db9-aa68-495a-8a13-b46b774dae65",
   "metadata": {
    "heading_collapsed": true,
    "tags": []
   },
   "source": [
    "## Column lineage facet"
   ]
  },
  {
   "cell_type": "markdown",
   "id": "fa24e570-7a49-4d5b-8f92-8ed2a271d7b6",
   "metadata": {
    "hidden": true,
    "tags": []
   },
   "source": [
    "``` json\n",
    "  \"outputs\": [\n",
    "    {\n",
    "      \"namespace\": \"my-namespace\",\n",
    "      \"name\": \"my-table \",\n",
    "      \"facets\": {\n",
    "        \"schema\": {\n",
    "          \"fields\": [\n",
    "            { \"name\": \"col1\", \"type\": \"STRING\"},\n",
    "            { \"name\": \"col2\", \"type\": \"INT\"}\n",
    "          ]\n",
    "        },\n",
    "        \"columnLineage\": {\n",
    "          \"fields\": {\n",
    "            \"email\": {\n",
    "              \"col1\": [\n",
    "                {namespace: \"my-namespace\", name: \"input-table-1\", \"field\": \"input-col1\"}\n",
    "              ],\n",
    "              transformationDescription: \"identical\",\n",
    "              transformationType: \"IDENTITY\"\n",
    "            },\n",
    "            \"col2\": {\n",
    "              \"inputFields\": [\n",
    "                {namespace: \"my-namespace\", name: \"input-table-1\", \"field\": \"input-col1\"},\n",
    "                {namespace: \"my-namespace\", name: \"input-table-2\", \"field\": \"input-col2\"}\n",
    "              ],\n",
    "              transformationDescription: \"identical\",\n",
    "              transformationType: \"IDENTITY\"\n",
    "            },\n",
    "          }\n",
    "        }\n",
    "      }\n",
    "    }\n",
    "  ],\n",
    "```"
   ]
  }
 ],
 "metadata": {
  "kernelspec": {
   "display_name": "Python 3 (ipykernel)",
   "language": "python",
   "name": "python3"
  },
  "language_info": {
   "codemirror_mode": {
    "name": "ipython",
    "version": 3
   },
   "file_extension": ".py",
   "mimetype": "text/x-python",
   "name": "python",
   "nbconvert_exporter": "python",
   "pygments_lexer": "ipython3",
   "version": "3.10.9"
  },
  "vscode": {
   "interpreter": {
    "hash": "435d9a77665643fab8a9e3e554e1daa86c82d4e7628c8234310a0f7f8a5d0e16"
   }
  }
 },
 "nbformat": 4,
 "nbformat_minor": 5
}
