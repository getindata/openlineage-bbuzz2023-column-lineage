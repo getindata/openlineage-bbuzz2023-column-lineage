{
 "cells": [
  {
   "cell_type": "markdown",
   "id": "ac4ab275-8bc5-4e76-8cba-cf7e6d26e86d",
   "metadata": {
    "tags": []
   },
   "source": [
    "## Datasets"
   ]
  },
  {
   "cell_type": "markdown",
   "id": "857cfe81-d960-4ba2-a407-a5fd38e0ba58",
   "metadata": {
    "tags": []
   },
   "source": [
    "![Gummy bears](https://www.chutters.com/hs-fs/hubfs/candies-chewy-colorful-65251.jpg?width=400&name=candies-chewy-colorful-65251.jpg)"
   ]
  },
  {
   "cell_type": "markdown",
   "id": "e1657dea-82c8-43f7-9017-5187449287bb",
   "metadata": {
    "tags": []
   },
   "source": [
    "```\n",
    " - table: jelly_colors\n",
    "     - color_uuid: uuid\n",
    "     - name: string\n",
    "     - rgb: string\n",
    " - table: jelly_transactions: \n",
    "     - from_user_uuid: uuid\n",
    "     - to_user_uuid: uuid\n",
    "     - exchanched_color_uuid:uuid\n",
    "     - amount_exchanged: integer\n",
    "     - exchange_date: timestamp\n",
    "     - latitude: float\n",
    "     - longitude: float\n",
    " - table: users\n",
    "     - uuid: uuid\n",
    "     - email\n",
    "```"
   ]
  },
  {
   "cell_type": "markdown",
   "id": "33d17db9-aa68-495a-8a13-b46b774dae65",
   "metadata": {
    "tags": []
   },
   "source": [
    "## Active daily users "
   ]
  },
  {
   "cell_type": "markdown",
   "id": "ffa3907c-1011-4e94-aa7b-f68f7d11e3e3",
   "metadata": {},
   "source": [
    "``` sql\n",
    "CREATE TABLE active_daily_users AS\n",
    "  SELECT u.name, SUM(amount_exchanged)\n",
    "  FROM jelly_users u\n",
    "  JOIN jelly_transactions t ON (u.uuid=t.from_user_uuid OR u.uuid=t.to_user_uuid) \n",
    "  WHERE to_date(u.exchange_date) = '2023-02-29'\n",
    "  GROUP BY u.name\n",
    "```"
   ]
  },
  {
   "cell_type": "markdown",
   "id": "fa24e570-7a49-4d5b-8f92-8ed2a271d7b6",
   "metadata": {
    "tags": []
   },
   "source": [
    "``` json\n",
    "  \"outputs\": [\n",
    "    {\n",
    "      \"namespace\": \"jelly-world\",\n",
    "      \"name\": \"active_daily_users \",\n",
    "      \"facets\": {\n",
    "        \"schema\": {\n",
    "          \"fields\": [\n",
    "            { \"name\": \"email\", \"type\": \"STRING\"},\n",
    "            { \"name\": \"amount\", \"type\": \"INT\"}\n",
    "          ]\n",
    "        },\n",
    "        \"columnLineage\": {\n",
    "          \"fields\": {\n",
    "            \"email\": {\n",
    "              \"inputFields\": [\n",
    "                {namespace: \"jelly-world\", name: \"users\", \"field\": \"email\"}\n",
    "              ],\n",
    "              transformationDescription: \"identical\",\n",
    "              transformationType: \"IDENTITY\"\n",
    "            },\n",
    "            \"daily_amount\": {\n",
    "              \"inputFields\": [\n",
    "                {namespace: \"jelly-world\", name: \"jelly_transactions\", \"field\": \"amount_exchanged\"}\n",
    "              ],\n",
    "              transformationDescription: \"identical\",\n",
    "              transformationType: \"IDENTITY\"\n",
    "            },\n",
    "          }\n",
    "        }\n",
    "      }\n",
    "    }\n",
    "  ],\n",
    "```"
   ]
  }
 ],
 "metadata": {
  "kernelspec": {
   "display_name": "Python 3",
   "language": "python",
   "name": "python3"
  },
  "language_info": {
   "codemirror_mode": {
    "name": "ipython",
    "version": 3
   },
   "file_extension": ".py",
   "mimetype": "text/x-python",
   "name": "python",
   "nbconvert_exporter": "python",
   "pygments_lexer": "ipython3",
   "version": "3.9.11"
  },
  "vscode": {
   "interpreter": {
    "hash": "435d9a77665643fab8a9e3e554e1daa86c82d4e7628c8234310a0f7f8a5d0e16"
   }
  }
 },
 "nbformat": 4,
 "nbformat_minor": 5
}
