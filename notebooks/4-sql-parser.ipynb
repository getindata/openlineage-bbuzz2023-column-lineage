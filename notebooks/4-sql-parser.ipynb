{
 "cells": [
  {
   "cell_type": "code",
   "execution_count": 20,
   "id": "b3e6bf85-9611-43b0-b98d-b19d8fad60b7",
   "metadata": {},
   "outputs": [],
   "source": [
    "from openlineage_sql import parse\n",
    "\n",
    "def prettyprint_column_lineage(lineage):\n",
    "    print(\"\\n\".join([f\"table: '{x.descendant.name}' origin_columns {['table ' + col.origin.name + ' - column ' + col.name for col in x.lineage]}\" for x in lineage]))"
   ]
  },
  {
   "cell_type": "code",
   "execution_count": 21,
   "id": "77676800",
   "metadata": {},
   "outputs": [
    {
     "name": "stdout",
     "output_type": "stream",
     "text": [
      "table: 'id' origin_columns ['table t1 - column a']\n",
      "table: 'value' origin_columns ['table t2 - column b']\n"
     ]
    }
   ],
   "source": [
    "sql = \"SELECT t1.a as id, t2.b as value FROM t1 JOIN t2\"\n",
    "prettyprint_column_lineage(parse([sql]).column_lineage)"
   ]
  },
  {
   "cell_type": "code",
   "execution_count": null,
   "id": "4163212b",
   "metadata": {
    "tags": []
   },
   "outputs": [],
   "source": [
    "%%bash\n",
    "cd ../ && java -cp openlineage-sql-java-0.20.6.jar:. TestParser \"SELECT t1.a as id, t2.b as value FROM t1 JOIN t2\""
   ]
  },
  {
   "cell_type": "code",
   "execution_count": null,
   "id": "4e998860-a52a-485c-a434-7e1700fef9ff",
   "metadata": {},
   "outputs": [],
   "source": []
  },
  {
   "cell_type": "code",
   "execution_count": null,
   "id": "0ab5c7c2-296f-4ae4-bb48-8da8d53b0498",
   "metadata": {},
   "outputs": [],
   "source": []
  },
  {
   "cell_type": "code",
   "execution_count": null,
   "id": "f2cceabd-3cbe-4324-b187-029b78b54afa",
   "metadata": {},
   "outputs": [],
   "source": []
  },
  {
   "cell_type": "code",
   "execution_count": null,
   "id": "4b952574-2353-4279-b7a5-23667f7b129b",
   "metadata": {},
   "outputs": [],
   "source": []
  },
  {
   "cell_type": "code",
   "execution_count": null,
   "id": "639b76d2-38d4-44f7-bbe3-72bd0cbb751b",
   "metadata": {},
   "outputs": [],
   "source": []
  }
 ],
 "metadata": {
  "kernelspec": {
   "display_name": "Python 3 (ipykernel)",
   "language": "python",
   "name": "python3"
  },
  "language_info": {
   "codemirror_mode": {
    "name": "ipython",
    "version": 3
   },
   "file_extension": ".py",
   "mimetype": "text/x-python",
   "name": "python",
   "nbconvert_exporter": "python",
   "pygments_lexer": "ipython3",
   "version": "3.10.9"
  },
  "vscode": {
   "interpreter": {
    "hash": "435d9a77665643fab8a9e3e554e1daa86c82d4e7628c8234310a0f7f8a5d0e16"
   }
  }
 },
 "nbformat": 4,
 "nbformat_minor": 5
}
