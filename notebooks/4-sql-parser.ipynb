{
 "cells": [
  {
   "cell_type": "code",
   "execution_count": 20,
   "id": "b3e6bf85-9611-43b0-b98d-b19d8fad60b7",
   "metadata": {
    "tags": []
   },
   "outputs": [],
   "source": [
    "from openlineage_sql import parse\n",
    "\n",
    "def prettyprint_column_lineage(lineage):\n",
    "    print(\"\\n\".join([f\"table: '{x.descendant.name}' origin_columns {['table ' + col.origin.name + ' - column ' + col.name for col in x.lineage]}\" for x in lineage]))    "
   ]
  },
  {
   "cell_type": "code",
   "execution_count": 28,
   "id": "77676800",
   "metadata": {
    "tags": []
   },
   "outputs": [
    {
     "name": "stdout",
     "output_type": "stream",
     "text": [
      "table: 'address' origin_columns ['table restaurants - column address']\n",
      "table: 'id' origin_columns ['table restaurants - column id']\n",
      "table: 'name' origin_columns ['table restaurants - column name']\n",
      "table: 'orders' origin_columns ['table restaurants - column order_id']\n"
     ]
    }
   ],
   "source": [
    "sql = \"\"\"\n",
    "  SELECT r.id, r.name, r.address, count(order_id) as orders\n",
    "  FROM public.restaurants r\n",
    "  JOIN public.orders_7_days o ON (o.restaurant_id = r.id) \n",
    "  GROUP BY r.id, r.name, r.address\n",
    "\"\"\"\n",
    "\n",
    "prettyprint_column_lineage(parse([sql]).column_lineage)"
   ]
  },
  {
   "cell_type": "code",
   "execution_count": 17,
   "id": "b8c06f4d",
   "metadata": {},
   "outputs": [],
   "source": [
    "%%bash\n",
    "wget -q https://repo1.maven.org/maven2/io/openlineage/openlineage-sql-java/0.27.2/openlineage-sql-java-0.27.2.jar -O ../openlineage-sql-java-0.27.2.jar"
   ]
  },
  {
   "cell_type": "code",
   "execution_count": 18,
   "id": "937e50e9",
   "metadata": {},
   "outputs": [
    {
     "name": "stdout",
     "output_type": "stream",
     "text": [
      "\u001b[0m\u001b[01;34mnotebooks\u001b[0m/  openlineage-sql-java-0.27.2.jar  TestParser.class  \u001b[01;34mwork\u001b[0m/\r\n"
     ]
    }
   ],
   "source": [
    "%ls ../"
   ]
  },
  {
   "cell_type": "code",
   "execution_count": 29,
   "id": "4163212b",
   "metadata": {
    "tags": []
   },
   "outputs": [
    {
     "name": "stdout",
     "output_type": "stream",
     "text": [
      "{\n",
      "  \"inTables\": [\n",
      "    \"public.orders_7_days\",\n",
      "    \"public.restaurants\"\n",
      "  ],\n",
      "  \"outTables\": [],\n",
      "  \"columnLineage\": [\n",
      "    {\n",
      "      \"descendant\": {\n",
      "        \"origin\": \"unknown\",\n",
      "        \"name\": \"address\"\n",
      "      },\n",
      "      \"lineage\": [\n",
      "        {\n",
      "          \"origin\": \"public.restaurants\",\n",
      "          \"name\": \"address\"\n",
      "        }\n",
      "      ]\n",
      "    },\n",
      "    {\n",
      "      \"descendant\": {\n",
      "        \"origin\": \"unknown\",\n",
      "        \"name\": \"id\"\n",
      "      },\n",
      "      \"lineage\": [\n",
      "        {\n",
      "          \"origin\": \"public.restaurants\",\n",
      "          \"name\": \"id\"\n",
      "        }\n",
      "      ]\n",
      "    },\n",
      "    {\n",
      "      \"descendant\": {\n",
      "        \"origin\": \"unknown\",\n",
      "        \"name\": \"name\"\n",
      "      },\n",
      "      \"lineage\": [\n",
      "        {\n",
      "          \"origin\": \"public.restaurants\",\n",
      "          \"name\": \"name\"\n",
      "        }\n",
      "      ]\n",
      "    },\n",
      "    {\n",
      "      \"descendant\": {\n",
      "        \"origin\": \"unknown\",\n",
      "        \"name\": \"orders\"\n",
      "      },\n",
      "      \"lineage\": [\n",
      "        {\n",
      "          \"origin\": \"public.restaurants\",\n",
      "          \"name\": \"order_id\"\n",
      "        }\n",
      "      ]\n",
      "    }\n",
      "  ],\n",
      "  \"errors\": []\n",
      "}\n"
     ]
    }
   ],
   "source": [
    "%%bash\n",
    "cd ../ && java -cp openlineage-sql-java-0.27.2.jar:. TestParser \"$(<notebooks/top_berlin_restaurants.sql)\" | jq ."
   ]
  }
 ],
 "metadata": {
  "kernelspec": {
   "display_name": "Python 3 (ipykernel)",
   "language": "python",
   "name": "python3"
  },
  "language_info": {
   "codemirror_mode": {
    "name": "ipython",
    "version": 3
   },
   "file_extension": ".py",
   "mimetype": "text/x-python",
   "name": "python",
   "nbconvert_exporter": "python",
   "pygments_lexer": "ipython3",
   "version": "3.10.9"
  },
  "vscode": {
   "interpreter": {
    "hash": "435d9a77665643fab8a9e3e554e1daa86c82d4e7628c8234310a0f7f8a5d0e16"
   }
  }
 },
 "nbformat": 4,
 "nbformat_minor": 5
}
