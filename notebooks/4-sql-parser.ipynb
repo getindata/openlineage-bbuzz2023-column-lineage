{
 "cells": [
  {
   "cell_type": "code",
   "execution_count": null,
   "id": "b3e6bf85-9611-43b0-b98d-b19d8fad60b7",
   "metadata": {
    "tags": []
   },
   "outputs": [],
   "source": [
    "from openlineage_sql import parse\n",
    "\n",
    "def prettyprint_column_lineage(lineage):\n",
    "    print(\"\\n\".join([f\"table: '{x.descendant.name}' origin_columns {['table ' + col.origin.name + ' - column ' + col.name for col in x.lineage]}\" for x in lineage]))    "
   ]
  },
  {
   "cell_type": "code",
   "execution_count": null,
   "id": "77676800",
   "metadata": {
    "tags": []
   },
   "outputs": [],
   "source": [
    "sql = \"\"\"SELECT u.name, jelly_colors.name as color\n",
    "  FROM jelly_daily_active_users u\n",
    "  JOIN jelly_favorite_colors ON jelly_favorite_colors.user_uuid = u.user_uuid\n",
    "  JOIN jelly_colors ON jelly_colors.color_uuid= jelly_favorite_colors.color_uuid\n",
    "  WHERE jelly_colors.name = 'green'\n",
    "\"\"\"\n",
    "prettyprint_column_lineage(parse([sql]).column_lineage)"
   ]
  },
  {
   "cell_type": "code",
   "execution_count": null,
   "id": "4163212b",
   "metadata": {
    "tags": []
   },
   "outputs": [],
   "source": [
    "%%bash\n",
    "cd ../ && java -cp openlineage-sql-java-0.27.2.jar:. TestParser \"$(<notebooks/active_daily_users.sql)\" | jq ."
   ]
  },
  {
   "cell_type": "code",
   "execution_count": null,
   "id": "4e998860-a52a-485c-a434-7e1700fef9ff",
   "metadata": {},
   "outputs": [],
   "source": []
  }
 ],
 "metadata": {
  "kernelspec": {
   "display_name": "Python 3 (ipykernel)",
   "language": "python",
   "name": "python3"
  },
  "language_info": {
   "codemirror_mode": {
    "name": "ipython",
    "version": 3
   },
   "file_extension": ".py",
   "mimetype": "text/x-python",
   "name": "python",
   "nbconvert_exporter": "python",
   "pygments_lexer": "ipython3",
   "version": "3.10.9"
  },
  "vscode": {
   "interpreter": {
    "hash": "435d9a77665643fab8a9e3e554e1daa86c82d4e7628c8234310a0f7f8a5d0e16"
   }
  }
 },
 "nbformat": 4,
 "nbformat_minor": 5
}
