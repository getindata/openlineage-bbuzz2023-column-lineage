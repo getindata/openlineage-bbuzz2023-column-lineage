{
 "cells": [
  {
   "cell_type": "code",
   "execution_count": null,
   "id": "204b1483-ad49-4f4a-bbe6-4a46856a2da1",
   "metadata": {
    "slideshow": {
     "slide_type": "slide"
    },
    "tags": []
   },
   "outputs": [],
   "source": [
    "from pyspark.sql import SparkSession\n",
    "\n",
    "spark = (SparkSession.builder.master('local')\n",
    "         .appName('Food Delivery')\n",
    "         .enableHiveSupport()\n",
    "         .getOrCreate())"
   ]
  },
  {
   "cell_type": "markdown",
   "id": "665f7fcc-14e7-4a12-8807-33b1c2426426",
   "metadata": {
    "tags": []
   },
   "source": [
    "## Initialise some datasets"
   ]
  },
  {
   "cell_type": "code",
   "execution_count": null,
   "id": "526c8616-3c1d-447e-92c7-dab89dfcf21d",
   "metadata": {
    "tags": []
   },
   "outputs": [],
   "source": [
    "spark.sql('CREATE DATABASE IF NOT EXISTS public')\n",
    "\n",
    "spark.sql('''\n",
    "    CREATE TABLE IF NOT EXISTS public.restaurants(\n",
    "        id                  INTEGER,\n",
    "        created_at          TIMESTAMP,\n",
    "        updated_at          TIMESTAMP,\n",
    "        name                STRING,\n",
    "        email               STRING,\n",
    "        address             STRING,\n",
    "        phone               STRING,\n",
    "        city_id             INTEGER,\n",
    "        business_hours_id   INTEGER,\n",
    "        description         STRING\n",
    "    );\n",
    "''')\n",
    "\n",
    "spark.sql('''\n",
    "        CREATE TABLE IF NOT EXISTS public.orders_7_days(\n",
    "        order_id      INTEGER,\n",
    "        placed_on     TIMESTAMP,\n",
    "        discount_id   INTEGER,\n",
    "        restaurant_id INTEGER,\n",
    "        menu_id       INTEGER,\n",
    "        menu_item_id  INTEGER,\n",
    "        category_id   INTEGER\n",
    "    )\n",
    "''')"
   ]
  },
  {
   "cell_type": "code",
   "execution_count": null,
   "id": "cfa4cebe",
   "metadata": {
    "code_folding": []
   },
   "outputs": [],
   "source": [
    "spark.sql('INSERT INTO public.restaurants values (7, NOW(), NOW(), \"BBUZZ DONER\", \"great@doner.de\", \"-\", \"-\", 5, 0, \"\")')"
   ]
  },
  {
   "cell_type": "code",
   "execution_count": null,
   "id": "8e9920dc",
   "metadata": {},
   "outputs": [],
   "source": [
    "spark.sql('INSERT INTO public.orders_7_days values (1, NOW(), 1, 7, 0, 0, 0)')"
   ]
  }
 ],
 "metadata": {
  "celltoolbar": "Raw Cell Format",
  "kernelspec": {
   "display_name": "Python 3 (ipykernel)",
   "language": "python",
   "name": "python3"
  },
  "language_info": {
   "codemirror_mode": {
    "name": "ipython",
    "version": 3
   },
   "file_extension": ".py",
   "mimetype": "text/x-python",
   "name": "python",
   "nbconvert_exporter": "python",
   "pygments_lexer": "ipython3",
   "version": "3.10.9"
  },
  "vscode": {
   "interpreter": {
    "hash": "435d9a77665643fab8a9e3e554e1daa86c82d4e7628c8234310a0f7f8a5d0e16"
   }
  }
 },
 "nbformat": 4,
 "nbformat_minor": 5
}
