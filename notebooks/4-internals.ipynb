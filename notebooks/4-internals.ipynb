{
 "cells": [
  {
   "cell_type": "markdown",
   "id": "8ea42155-48a9-408d-8262-6bd234037b81",
   "metadata": {},
   "source": [
    "## Let's look at Airflow"
   ]
  },
  {
   "cell_type": "code",
   "execution_count": null,
   "id": "b812b5e5-d7fb-4cc7-8e5b-f10932ae28f7",
   "metadata": {
    "tags": []
   },
   "outputs": [],
   "source": [
    "%%bash\n",
    "ENDPOINT_URL=\"http://airflow-webserver:8080/\"\n",
    "curl -X GET  \\\n",
    "    --user \"airflow:airflow\" \\\n",
    "    \"${ENDPOINT_URL}/api/v1/dags/postgres/dagRuns\""
   ]
  },
  {
   "cell_type": "code",
   "execution_count": null,
   "id": "1c42398f-d723-43ec-946f-a9329d3e6149",
   "metadata": {
    "tags": []
   },
   "outputs": [],
   "source": [
    "%%bash\n",
    "ENDPOINT_URL=\"http://airflow-webserver:8080/\"\n",
    "curl -X POST  \\\n",
    "    -H 'Content-Type: application/json' \\\n",
    "    --user \"airflow:airflow\" \\\n",
    "    \"${ENDPOINT_URL}/api/v1/dags/postgres/dagRuns\" \\\n",
    "    -d '{}'"
   ]
  },
  {
   "cell_type": "markdown",
   "id": "1d8afd8f",
   "metadata": {},
   "source": [
    "Airflow is at http://localhost:8080/"
   ]
  },
  {
   "cell_type": "markdown",
   "id": "5b67f8e0",
   "metadata": {},
   "source": [
    "## How does that work?"
   ]
  },
  {
   "cell_type": "markdown",
   "id": "dec95249",
   "metadata": {},
   "source": [
    "```\n",
    "== Optimized Logical Plan ==\n",
    "Aggregate [id#206, name#209, address#211], [id#206, name#209, address#211, count(order_id#216) AS orders#205L]\n",
    "+- Project [id#206, name#209, address#211, order_id#216]\n",
    "   +- Join Inner, (restaurant_id#219 = id#206)\n",
    "      :- Project [id#206, name#209, address#211]\n",
    "      :  +- Filter isnotnull(id#206)\n",
    "      :     +- HiveTableRelation [`public`.`restaurants`, org.apache.hadoop.hive.serde2.lazy.LazySimpleSerDe, Data Cols: [id#206, ..., Partition Cols: []]\n",
    "      +- Project [order_id#216, restaurant_id#219]\n",
    "         +- Filter isnotnull(restaurant_id#219)\n",
    "            +- HiveTableRelation [`public`.`orders_7_days`, org.apache.hadoop.hive.serde2.lazy.LazySimpleSerDe, Data Cols: [order_id#216, ..., Partition Cols: []] \n",
    "```"
   ]
  },
  {
   "cell_type": "markdown",
   "id": "83e959f7",
   "metadata": {},
   "source": [
    "<img src=\"./images/ol-in-airflow.png\"  width=\"500\" height=\"500\">\n"
   ]
  }
 ],
 "metadata": {
  "kernelspec": {
   "display_name": "Python 3 (ipykernel)",
   "language": "python",
   "name": "python3"
  },
  "language_info": {
   "codemirror_mode": {
    "name": "ipython",
    "version": 3
   },
   "file_extension": ".py",
   "mimetype": "text/x-python",
   "name": "python",
   "nbconvert_exporter": "python",
   "pygments_lexer": "ipython3",
   "version": "3.10.9"
  },
  "vscode": {
   "interpreter": {
    "hash": "435d9a77665643fab8a9e3e554e1daa86c82d4e7628c8234310a0f7f8a5d0e16"
   }
  }
 },
 "nbformat": 4,
 "nbformat_minor": 5
}
