{
 "cells": [
  {
   "cell_type": "markdown",
   "id": "8ea42155-48a9-408d-8262-6bd234037b81",
   "metadata": {
    "heading_collapsed": true
   },
   "source": [
    "## What's so cool?"
   ]
  },
  {
   "cell_type": "markdown",
   "id": "514c4fec-939a-4c01-b9b3-edebf0827aa5",
   "metadata": {
    "hidden": true
   },
   "source": [
    " * Column Level Lineage is collected automatically.\n",
    " * Openlineage is a standard. It's integrated with: Airflow, Spark, DBT, Dagster, Flink ...\n",
    " * Marquez provides REST API to fetch a whole graph and monitor upstream and downstream dependencies. \n",
    " * Enterprise data catalog vendors work on integrating Openlineage. We are preparing for Datahub PoC. "
   ]
  },
  {
   "cell_type": "markdown",
   "id": "164a90ee-1600-48fa-89ba-b8f3863cd3ae",
   "metadata": {
    "heading_collapsed": true
   },
   "source": [
    "## What's next within column lineage?"
   ]
  },
  {
   "cell_type": "markdown",
   "id": "08c8fc58-c891-4281-ab76-c03a261b9c1f",
   "metadata": {
    "hidden": true,
    "tags": []
   },
   "source": [
    " * Draw column lineage in Marquez,\n",
    " * Collect automatically transformation types,\n",
    " * Track sensitive data usage:  \n",
    "   * Be able to detect downstream usages,\n",
    "   * Be able to mark data is hashed and no longer sensitive."
   ]
  },
  {
   "cell_type": "markdown",
   "id": "924e523f",
   "metadata": {
    "heading_collapsed": true
   },
   "source": [
    "## What's next for Openlineage?"
   ]
  },
  {
   "cell_type": "markdown",
   "id": "d19b1f8c",
   "metadata": {
    "hidden": true
   },
   "source": [
    " * AIP-53 - move Openlineage & Airflow integration to Airflow codebase\n",
    " * Further extensions for Flink integration \n",
    " * Reference intergation with an open-source data catalogs."
   ]
  },
  {
   "cell_type": "markdown",
   "id": "cbc5814b",
   "metadata": {
    "heading_collapsed": true
   },
   "source": [
    "## What's next for You?"
   ]
  },
  {
   "cell_type": "markdown",
   "id": "8f318df7",
   "metadata": {
    "hidden": true
   },
   "source": [
    " * Feel free to join [Openlineage slack](https://bit.ly/OLslack). \n",
    " * Look at the Marquez with [GitPod](https://gitpod.io/#https://github.com/MarquezProject/marquez)\n",
    " * Reach out to us (Maciej & Paweł). We are more than happy to answear all your questions. \n",
    " * Last but not least -> Help us with Ecosystem survey linked within a header of openlineage.io (Survey)[https://forms.gle/cPk3skNgnB4iab9H6]\n",
    "    "
   ]
  }
 ],
 "metadata": {
  "kernelspec": {
   "display_name": "Python 3 (ipykernel)",
   "language": "python",
   "name": "python3"
  },
  "language_info": {
   "codemirror_mode": {
    "name": "ipython",
    "version": 3
   },
   "file_extension": ".py",
   "mimetype": "text/x-python",
   "name": "python",
   "nbconvert_exporter": "python",
   "pygments_lexer": "ipython3",
   "version": "3.10.9"
  },
  "vscode": {
   "interpreter": {
    "hash": "435d9a77665643fab8a9e3e554e1daa86c82d4e7628c8234310a0f7f8a5d0e16"
   }
  }
 },
 "nbformat": 4,
 "nbformat_minor": 5
}
