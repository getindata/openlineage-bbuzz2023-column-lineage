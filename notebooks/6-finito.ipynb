{
 "cells": [
  {
   "cell_type": "markdown",
   "id": "8ea42155-48a9-408d-8262-6bd234037b81",
   "metadata": {},
   "source": [
    "# Why is this amazing?"
   ]
  },
  {
   "cell_type": "markdown",
   "id": "514c4fec-939a-4c01-b9b3-edebf0827aa5",
   "metadata": {},
   "source": [
    " * Column Level Lineage is collected automatically.\n",
    " * It's a standard. It's integrated with: Airflow, Spark, DBT, Dagster, Flink ...\n",
    " * Enterprise data catalog vendors come to OpenLineage meetings and discuss their integrations."
   ]
  },
  {
   "cell_type": "markdown",
   "id": "164a90ee-1600-48fa-89ba-b8f3863cd3ae",
   "metadata": {},
   "source": [
    "# What's next?"
   ]
  },
  {
   "cell_type": "markdown",
   "id": "08c8fc58-c891-4281-ab76-c03a261b9c1f",
   "metadata": {
    "tags": []
   },
   "source": [
    " * Draw column lineage in Marquez,\n",
    " * Collect automatically transformation types,\n",
    " * Track sensitive data usage:  \n",
    "   * Be able to detect downstream usages,\n",
    "   * Be able to mark data is hashed and no longer sensitive."
   ]
  }
 ],
 "metadata": {
  "kernelspec": {
   "display_name": "Python 3 (ipykernel)",
   "language": "python",
   "name": "python3"
  },
  "language_info": {
   "codemirror_mode": {
    "name": "ipython",
    "version": 3
   },
   "file_extension": ".py",
   "mimetype": "text/x-python",
   "name": "python",
   "nbconvert_exporter": "python",
   "pygments_lexer": "ipython3",
   "version": "3.10.9"
  },
  "vscode": {
   "interpreter": {
    "hash": "435d9a77665643fab8a9e3e554e1daa86c82d4e7628c8234310a0f7f8a5d0e16"
   }
  }
 },
 "nbformat": 4,
 "nbformat_minor": 5
}
